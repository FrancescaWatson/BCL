{
 "cells": [
  {
   "cell_type": "code",
   "execution_count": 72,
   "metadata": {},
   "outputs": [],
   "source": [
    "from typing import List, Dict\n",
    "import json\n",
    "\n",
    "def read_json_to_dict(file_path: str) -> List[str]:\n",
    "\n",
    "    with open(file_path, 'r') as f:\n",
    "        json_content = json.load(f)\n",
    "    \n",
    "    instructions = json_content.get('instructions', [])\n",
    "    output_list = []\n",
    "\n",
    "    type_to_units = {\n",
    "     \"ElectricCurrent\": \"A\",\n",
    "     \"Voltage\": \"V\",\n",
    "     \"power\": \"W\",\n",
    "     \"resistance\": \"Ohm\",\n",
    "     \"TimeDimension\":\"hour\",\n",
    "     \"time\":\"sec\"\n",
    "     }\n",
    "    \n",
    "    \n",
    "    # Iterate through each instruction\n",
    "    for instruction in instructions:\n",
    "        sequence = instruction.get('sequence', [])\n",
    "        sequence_output_list = []\n",
    "        # Iterate through each step in the sequence\n",
    "        for step in sequence:\n",
    "            step_type = step.get('type', '')\n",
    "            value = step.get('value', '')\n",
    "            unit = step.get('unit', '')\n",
    "            termination = step.get('termination', [{}])[0]\n",
    "            termination_type = termination.get('type', '')\n",
    "            termination_value = termination.get('value', '')\n",
    "\n",
    "            # Check if value refers to a parameter\n",
    "            if value in json_content['parameters']:\n",
    "                value = json_content['parameters'][value]\n",
    "\n",
    "            # Check if termination value refers to a parameter\n",
    "            if termination_value in json_content['parameters']:\n",
    "                termination_value = json_content['parameters'][termination_value]\n",
    "            \n",
    "            # Generate the instruction string\n",
    "            if step_type.lower() == 'rest':\n",
    "                time = step.get('time', '')\n",
    "                sequence_output_list.append(f\"Rest for {time / 3600} {type_to_units.get('TimeDimension', 'hour')}\")\n",
    "            elif step_type == 'ElectricCurrent':\n",
    "                if value > 0:\n",
    "                    if termination_type == 'Voltage':\n",
    "                        sequence_output_list.append(\n",
    "                        f\"Discharge at {value}{type_to_units.get(unit, unit)} \"\n",
    "                        f\"until {termination_value}{type_to_units.get(termination_type, termination_type)}\"\n",
    "                        )\n",
    "                    else:\n",
    "                        sequence_output_list.append(\n",
    "                        f\"Discharge at {value}{type_to_units.get(unit, unit)} \"\n",
    "                        f\"for {termination_value}{type_to_units.get(termination_type, termination_type)}\"\n",
    "                    )\n",
    "                else:\n",
    "                    if termination_type == 'Voltage':\n",
    "                        sequence_output_list.append(\n",
    "                        f\"Charge at {-value}{type_to_units.get(unit, unit)} \"\n",
    "                        f\"until {termination_value}{type_to_units.get(termination_type, termination_type)}\"\n",
    "                        )\n",
    "                    else:\n",
    "                        sequence_output_list.append(\n",
    "                        f\"Charge at {-value}{type_to_units.get(unit, unit)} \"\n",
    "                        f\"for {termination_value}{type_to_units.get(termination_type, termination_type)}\"\n",
    "                        )\n",
    "            elif step_type == 'Voltage':\n",
    "                    if termination_type == 'ElectricCurrent':\n",
    "                        sequence_output_list.append(\n",
    "                        f\"Hold at {value}{type_to_units.get(unit, unit)}V \"\n",
    "                        f\"until {termination_value}{type_to_units.get(termination_type, termination_type)}\"\n",
    "                        )\n",
    "                    else:\n",
    "                        sequence_output_list.append(\n",
    "                        f\"Hold at {value}{type_to_units.get(unit, unit)}V \"\n",
    "                        f\"for {termination_value}{type_to_units.get(termination_type, termination_type)}\"\n",
    "                        )\n",
    "            else:\n",
    "                sequence_output_list.append(\n",
    "                    f\"{type_to_units.get(step_type, step_type)} at {value}{type_to_units.get(unit, unit)}\"\n",
    "                    f\"until {termination_value}{type_to_units.get(termination_type, termination_type)}\"\n",
    "                )\n",
    "        if instruction.get('repeat', []) > 1:\n",
    "            for idx in range(instruction.get('repeat', [])-1): #repetitions for sequences\n",
    "                output_list.extend(sequence_output_list)\n",
    "        else:\n",
    "            output_list.extend(sequence_output_list)\n",
    "            \n",
    "    return output_list\n"
   ]
  },
  {
   "cell_type": "code",
   "execution_count": 80,
   "metadata": {},
   "outputs": [
    {
     "name": "stderr",
     "output_type": "stream",
     "text": [
      "At t = 239.014 and h = 3.90642e-19, the corrector convergence failed repeatedly or with |h| = hmin.\n",
      "At t = 239.014, , mxstep steps taken before reaching tout.\n",
      "At t = 74.1057 and h = 4.12989e-15, the corrector convergence failed repeatedly or with |h| = hmin.\n",
      "At t = 74.1058, , mxstep steps taken before reaching tout.\n",
      "At t = 74.1057 and h = 3.43458e-15, the corrector convergence failed repeatedly or with |h| = hmin.\n",
      "At t = 14.1058, , mxstep steps taken before reaching tout.\n",
      "At t = 14.1058 and h = 8.76045e-14, the corrector convergence failed repeatedly or with |h| = hmin.\n",
      "At t = 14.1058 and h = 9.55431e-15, the corrector convergence failed repeatedly or with |h| = hmin.\n",
      "At t = 219.513 and h = 7.47796e-17, the corrector convergence failed repeatedly or with |h| = hmin.\n",
      "At t = 219.513 and h = 3.84674e-17, the corrector convergence failed repeatedly or with |h| = hmin.\n",
      "At t = 99.5116, , mxstep steps taken before reaching tout.\n",
      "At t = 99.5116, , mxstep steps taken before reaching tout.\n",
      "At t = 99.5142 and h = 1.00027e-18, the corrector convergence failed repeatedly or with |h| = hmin.\n",
      "At t = 39.514 and h = 6.97416e-18, the corrector convergence failed repeatedly or with |h| = hmin.\n",
      "At t = 2.01401 and h = 1.94069e-18, the corrector convergence failed repeatedly or with |h| = hmin.\n",
      "At t = 2.01401 and h = 2.46317e-16, the corrector convergence failed repeatedly or with |h| = hmin.\n",
      "At t = 2.01401, , mxstep steps taken before reaching tout.\n",
      "At t = 2.01398 and h = 8.30331e-13, the corrector convergence failed repeatedly or with |h| = hmin.\n",
      "At t = 2.01401, , mxstep steps taken before reaching tout.\n",
      "At t = 0.842135 and h = 8.60604e-19, the corrector convergence failed repeatedly or with |h| = hmin.\n",
      "At t = 0.256189 and h = 4.51709e-16, the corrector convergence failed repeatedly or with |h| = hmin.\n",
      "At t = 0.256192 and h = 2.97377e-13, the corrector convergence failed repeatedly or with |h| = hmin.\n",
      "At t = 0.109712 and h = 9.90399e-17, the corrector convergence failed repeatedly or with |h| = hmin.\n",
      "At t = 0.0364719 and h = 7.26891e-19, the corrector convergence failed repeatedly or with |h| = hmin.\n",
      "At t = 0.0364621 and h = 1.66425e-13, the corrector convergence failed repeatedly or with |h| = hmin.\n",
      "At t = 0.0181489 and h = 3.0419e-14, the corrector convergence failed repeatedly or with |h| = hmin.\n",
      "2023-09-19 17:14:09.697 - [WARNING] callbacks.on_experiment_infeasible(231): \n",
      "\n",
      "\tExperiment is infeasible: 'event: Maximum voltage [V]' was triggered during 'Charge at 0.5C for 360sec'. The returned solution only contains up to step 1 of cycle 94. \n"
     ]
    },
    {
     "data": {
      "application/vnd.jupyter.widget-view+json": {
       "model_id": "a588ee55be1d4ab6ad1c5fadfae10bf5",
       "version_major": 2,
       "version_minor": 0
      },
      "text/plain": [
       "interactive(children=(FloatSlider(value=0.0, description='t', max=233.13307704237988, step=2.331330770423799),…"
      ]
     },
     "metadata": {},
     "output_type": "display_data"
    },
    {
     "data": {
      "text/plain": [
       "<pybamm.plotting.quick_plot.QuickPlot at 0x17c16c5b0>"
      ]
     },
     "execution_count": 80,
     "metadata": {},
     "output_type": "execute_result"
    }
   ],
   "source": [
    "import pybamm\n",
    "import numpy as np\n",
    "\n",
    "experiment = pybamm.Experiment(read_json_to_dict(\"Examples/StandardCharakterization.json\"))\n",
    "\n",
    "model = pybamm.lithium_ion.DFN()\n",
    "sim = pybamm.Simulation(model, experiment=experiment)\n",
    "sim.solve()\n",
    "sim.plot([\"Voltage [V]\",'Current [A]'])"
   ]
  }
 ],
 "metadata": {
  "kernelspec": {
   "display_name": "pybamm",
   "language": "python",
   "name": "python3"
  },
  "language_info": {
   "codemirror_mode": {
    "name": "ipython",
    "version": 3
   },
   "file_extension": ".py",
   "mimetype": "text/x-python",
   "name": "python",
   "nbconvert_exporter": "python",
   "pygments_lexer": "ipython3",
   "version": "3.10.12"
  },
  "orig_nbformat": 4
 },
 "nbformat": 4,
 "nbformat_minor": 2
}
