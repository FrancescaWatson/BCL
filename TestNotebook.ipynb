{
 "cells": [
  {
   "cell_type": "code",
   "execution_count": 14,
   "metadata": {},
   "outputs": [
    {
     "name": "stdout",
     "output_type": "stream",
     "text": [
      "\n",
      "\u001b[1m[\u001b[0m\u001b[34;49mnotice\u001b[0m\u001b[1;39;49m]\u001b[0m\u001b[39;49m A new release of pip is available: \u001b[0m\u001b[31;49m23.1.2\u001b[0m\u001b[39;49m -> \u001b[0m\u001b[32;49m23.3.2\u001b[0m\n",
      "\u001b[1m[\u001b[0m\u001b[34;49mnotice\u001b[0m\u001b[1;39;49m]\u001b[0m\u001b[39;49m To update, run: \u001b[0m\u001b[32;49mpip install --upgrade pip\u001b[0m\n",
      "Note: you may need to restart the kernel to use updated packages.\n",
      "\n",
      "\u001b[1m[\u001b[0m\u001b[34;49mnotice\u001b[0m\u001b[1;39;49m]\u001b[0m\u001b[39;49m A new release of pip is available: \u001b[0m\u001b[31;49m23.1.2\u001b[0m\u001b[39;49m -> \u001b[0m\u001b[32;49m23.3.2\u001b[0m\n",
      "\u001b[1m[\u001b[0m\u001b[34;49mnotice\u001b[0m\u001b[1;39;49m]\u001b[0m\u001b[39;49m To update, run: \u001b[0m\u001b[32;49mpip install --upgrade pip\u001b[0m\n",
      "Note: you may need to restart the kernel to use updated packages.\n"
     ]
    }
   ],
   "source": [
    "%pip install \"pybamm[plot]\" -q\n",
    "%pip install ipywidgets -q"
   ]
  },
  {
   "cell_type": "code",
   "execution_count": 15,
   "metadata": {
    "tags": []
   },
   "outputs": [],
   "source": [
    "from typing import List, Dict\n",
    "import json\n",
    "\n",
    "def read_json_to_dict(file_path: str) -> List[str]:\n",
    "\n",
    "    with open(file_path, 'r') as f:\n",
    "        json_content = json.load(f)\n",
    "    \n",
    "    instructions = json_content.get('instructions', [])\n",
    "    output_list = []\n",
    "\n",
    "    type_to_units = {\n",
    "     \"ElectricCurrent\": \"A\",\n",
    "     \"Voltage\": \"V\",\n",
    "     \"power\": \"W\",\n",
    "     \"resistance\": \"Ohm\",\n",
    "     \"TimeDimension\":\"hour\",\n",
    "     \"time\":\"sec\"\n",
    "     }\n",
    "    \n",
    "    \n",
    "    # Iterate through each instruction\n",
    "    for instruction in instructions:\n",
    "        sequence = instruction.get('sequence', [])\n",
    "        sequence_output_list = []\n",
    "        # Iterate through each step in the sequence\n",
    "        for step in sequence:\n",
    "            step_type = step.get('type', '')\n",
    "            value = step.get('value', '')\n",
    "            unit = step.get('unit', '')\n",
    "            termination = step.get('termination', [{}])[0]\n",
    "            termination_type = termination.get('type', '')\n",
    "            termination_value = termination.get('value', '')\n",
    "\n",
    "            # Check if value refers to a parameter\n",
    "            if value in json_content['parameters']:\n",
    "                value = json_content['parameters'][value]\n",
    "\n",
    "            # Check if termination value refers to a parameter\n",
    "            if termination_value in json_content['parameters']:\n",
    "                termination_value = json_content['parameters'][termination_value]\n",
    "            \n",
    "            # Generate the instruction string\n",
    "            if step_type.lower() == 'rest':\n",
    "                time = step.get('value', '')\n",
    "                sequence_output_list.append(f\"Rest for {time / 3600} {type_to_units.get('TimeDimension', 'hour')}\")\n",
    "            elif step_type == 'ElectricCurrent':\n",
    "                if value > 0:\n",
    "                    if termination_type == 'Voltage':\n",
    "                        sequence_output_list.append(\n",
    "                        f\"Discharge at {value}{type_to_units.get(unit, unit)} \"\n",
    "                        f\"until {termination_value}{type_to_units.get(termination_type, termination_type)}\"\n",
    "                        )\n",
    "                    else:\n",
    "                        sequence_output_list.append(\n",
    "                        f\"Discharge at {value}{type_to_units.get(unit, unit)} \"\n",
    "                        f\"for {termination_value}{type_to_units.get(termination_type, termination_type)}\"\n",
    "                    )\n",
    "                else:\n",
    "                    if termination_type == 'Voltage':\n",
    "                        sequence_output_list.append(\n",
    "                        f\"Charge at {-value}{type_to_units.get(unit, unit)} \"\n",
    "                        f\"until {termination_value}{type_to_units.get(termination_type, termination_type)}\"\n",
    "                        )\n",
    "                    else:\n",
    "                        sequence_output_list.append(\n",
    "                        f\"Charge at {-value}{type_to_units.get(unit, unit)} \"\n",
    "                        f\"for {termination_value}{type_to_units.get(termination_type, termination_type)}\"\n",
    "                        )\n",
    "            elif step_type == 'Voltage':\n",
    "                    if termination_type == 'ElectricCurrent':\n",
    "                        sequence_output_list.append(\n",
    "                        f\"Hold at {value}{type_to_units.get(unit, unit)}V \"\n",
    "                        f\"until {termination_value}{type_to_units.get(termination_type, termination_type)}\"\n",
    "                        )\n",
    "                    else:\n",
    "                        sequence_output_list.append(\n",
    "                        f\"Hold at {value}{type_to_units.get(unit, unit)}V \"\n",
    "                        f\"for {termination_value}{type_to_units.get(termination_type, termination_type)}\"\n",
    "                        )\n",
    "            else:\n",
    "                sequence_output_list.append(\n",
    "                    f\"{type_to_units.get(step_type, step_type)} at {value}{type_to_units.get(unit, unit)}\"\n",
    "                    f\"until {termination_value}{type_to_units.get(termination_type, termination_type)}\"\n",
    "                )\n",
    "        if instruction.get('repeat', []) > 1:\n",
    "            for idx in range(instruction.get('repeat', [])-1): #repetitions for sequences\n",
    "                output_list.extend(sequence_output_list)\n",
    "        else:\n",
    "            output_list.extend(sequence_output_list)\n",
    "            \n",
    "    return output_list\n"
   ]
  },
  {
   "cell_type": "code",
   "execution_count": 16,
   "metadata": {
    "tags": []
   },
   "outputs": [],
   "source": [
    "import pybamm\n",
    "import numpy as np\n",
    "import matplotlib.pyplot as plt\n",
    "\n",
    "experiment = pybamm.Experiment(read_json_to_dict(\"Examples/StandardCharakterization.json\"))\n",
    "\n",
    "model = pybamm.lithium_ion.SPM()\n",
    "sim = pybamm.Simulation(model, experiment=experiment)\n",
    "sol = sim.solve()\n"
   ]
  },
  {
   "cell_type": "code",
   "execution_count": 17,
   "metadata": {},
   "outputs": [
    {
     "data": {
      "application/vnd.jupyter.widget-view+json": {
       "model_id": "1034b79b03384080b19756a0c41ee29e",
       "version_major": 2,
       "version_minor": 0
      },
      "text/plain": [
       "interactive(children=(FloatSlider(value=0.0, description='t', max=233.06209675459283, step=2.3306209675459284)…"
      ]
     },
     "metadata": {},
     "output_type": "display_data"
    },
    {
     "data": {
      "text/plain": [
       "<pybamm.plotting.quick_plot.QuickPlot at 0x7fc119a23710>"
      ]
     },
     "execution_count": 17,
     "metadata": {},
     "output_type": "execute_result"
    }
   ],
   "source": [
    "pybamm.dynamic_plot(sol)"
   ]
  }
 ],
 "metadata": {
  "kernelspec": {
   "display_name": "Python 3 (ipykernel)",
   "language": "python",
   "name": "python3"
  },
  "language_info": {
   "codemirror_mode": {
    "name": "ipython",
    "version": 3
   },
   "file_extension": ".py",
   "mimetype": "text/x-python",
   "name": "python",
   "nbconvert_exporter": "python",
   "pygments_lexer": "ipython3",
   "version": "3.11.4"
  }
 },
 "nbformat": 4,
 "nbformat_minor": 4
}
