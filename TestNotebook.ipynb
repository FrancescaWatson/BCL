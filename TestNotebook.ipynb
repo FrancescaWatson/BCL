{
 "cells": [
  {
   "cell_type": "code",
   "execution_count": 1,
   "metadata": {
    "tags": []
   },
   "outputs": [],
   "source": [
    "from typing import List, Dict\n",
    "import json\n",
    "\n",
    "def read_json_to_dict(file_path: str) -> List[str]:\n",
    "\n",
    "    with open(file_path, 'r') as f:\n",
    "        json_content = json.load(f)\n",
    "    \n",
    "    instructions = json_content.get('instructions', [])\n",
    "    output_list = []\n",
    "\n",
    "    type_to_units = {\n",
    "     \"ElectricCurrent\": \"A\",\n",
    "     \"Voltage\": \"V\",\n",
    "     \"power\": \"W\",\n",
    "     \"resistance\": \"Ohm\",\n",
    "     \"TimeDimension\":\"hour\",\n",
    "     \"time\":\"sec\"\n",
    "     }\n",
    "    \n",
    "    \n",
    "    # Iterate through each instruction\n",
    "    for instruction in instructions:\n",
    "        sequence = instruction.get('sequence', [])\n",
    "        sequence_output_list = []\n",
    "        # Iterate through each step in the sequence\n",
    "        for step in sequence:\n",
    "            step_type = step.get('type', '')\n",
    "            value = step.get('value', '')\n",
    "            unit = step.get('unit', '')\n",
    "            termination = step.get('termination', [{}])[0]\n",
    "            termination_type = termination.get('type', '')\n",
    "            termination_value = termination.get('value', '')\n",
    "\n",
    "            # Check if value refers to a parameter\n",
    "            if value in json_content['parameters']:\n",
    "                value = json_content['parameters'][value]\n",
    "\n",
    "            # Check if termination value refers to a parameter\n",
    "            if termination_value in json_content['parameters']:\n",
    "                termination_value = json_content['parameters'][termination_value]\n",
    "            \n",
    "            # Generate the instruction string\n",
    "            if step_type.lower() == 'rest':\n",
    "                time = step.get('value', '')\n",
    "                sequence_output_list.append(f\"Rest for {time / 3600} {type_to_units.get('TimeDimension', 'hour')}\")\n",
    "            elif step_type == 'ElectricCurrent':\n",
    "                if value > 0:\n",
    "                    if termination_type == 'Voltage':\n",
    "                        sequence_output_list.append(\n",
    "                        f\"Discharge at {value}{type_to_units.get(unit, unit)} \"\n",
    "                        f\"until {termination_value}{type_to_units.get(termination_type, termination_type)}\"\n",
    "                        )\n",
    "                    else:\n",
    "                        sequence_output_list.append(\n",
    "                        f\"Discharge at {value}{type_to_units.get(unit, unit)} \"\n",
    "                        f\"for {termination_value}{type_to_units.get(termination_type, termination_type)}\"\n",
    "                    )\n",
    "                else:\n",
    "                    if termination_type == 'Voltage':\n",
    "                        sequence_output_list.append(\n",
    "                        f\"Charge at {-value}{type_to_units.get(unit, unit)} \"\n",
    "                        f\"until {termination_value}{type_to_units.get(termination_type, termination_type)}\"\n",
    "                        )\n",
    "                    else:\n",
    "                        sequence_output_list.append(\n",
    "                        f\"Charge at {-value}{type_to_units.get(unit, unit)} \"\n",
    "                        f\"for {termination_value}{type_to_units.get(termination_type, termination_type)}\"\n",
    "                        )\n",
    "            elif step_type == 'Voltage':\n",
    "                    if termination_type == 'ElectricCurrent':\n",
    "                        sequence_output_list.append(\n",
    "                        f\"Hold at {value}{type_to_units.get(unit, unit)}V \"\n",
    "                        f\"until {termination_value}{type_to_units.get(termination_type, termination_type)}\"\n",
    "                        )\n",
    "                    else:\n",
    "                        sequence_output_list.append(\n",
    "                        f\"Hold at {value}{type_to_units.get(unit, unit)}V \"\n",
    "                        f\"for {termination_value}{type_to_units.get(termination_type, termination_type)}\"\n",
    "                        )\n",
    "            else:\n",
    "                sequence_output_list.append(\n",
    "                    f\"{type_to_units.get(step_type, step_type)} at {value}{type_to_units.get(unit, unit)}\"\n",
    "                    f\"until {termination_value}{type_to_units.get(termination_type, termination_type)}\"\n",
    "                )\n",
    "        if instruction.get('repeat', []) > 1:\n",
    "            for idx in range(instruction.get('repeat', [])-1): #repetitions for sequences\n",
    "                output_list.extend(sequence_output_list)\n",
    "        else:\n",
    "            output_list.extend(sequence_output_list)\n",
    "            \n",
    "    return output_list\n"
   ]
  },
  {
   "cell_type": "code",
   "execution_count": 2,
   "metadata": {
    "tags": []
   },
   "outputs": [
    {
     "ename": "ModuleNotFoundError",
     "evalue": "No module named 'pybamm'",
     "output_type": "error",
     "traceback": [
      "\u001b[0;31m---------------------------------------------------------------------------\u001b[0m",
      "\u001b[0;31mModuleNotFoundError\u001b[0m                       Traceback (most recent call last)",
      "Cell \u001b[0;32mIn[2], line 1\u001b[0m\n\u001b[0;32m----> 1\u001b[0m \u001b[38;5;28;01mimport\u001b[39;00m \u001b[38;5;21;01mpybamm\u001b[39;00m\n\u001b[1;32m      2\u001b[0m \u001b[38;5;28;01mimport\u001b[39;00m \u001b[38;5;21;01mnumpy\u001b[39;00m \u001b[38;5;28;01mas\u001b[39;00m \u001b[38;5;21;01mnp\u001b[39;00m\n\u001b[1;32m      4\u001b[0m experiment \u001b[38;5;241m=\u001b[39m pybamm\u001b[38;5;241m.\u001b[39mExperiment(read_json_to_dict(\u001b[38;5;124m\"\u001b[39m\u001b[38;5;124mExamples/StandardCharakterization.json\u001b[39m\u001b[38;5;124m\"\u001b[39m))\n",
      "\u001b[0;31mModuleNotFoundError\u001b[0m: No module named 'pybamm'"
     ]
    }
   ],
   "source": [
    "import pybamm\n",
    "import numpy as np\n",
    "\n",
    "experiment = pybamm.Experiment(read_json_to_dict(\"Examples/StandardCharakterization.json\"))\n",
    "\n",
    "model = pybamm.lithium_ion.DFN()\n",
    "sim = pybamm.Simulation(model, experiment=experiment)\n",
    "sim.solve()\n",
    "sim.plot([\"Voltage [V]\",'Current [A]'])"
   ]
  },
  {
   "cell_type": "code",
   "execution_count": null,
   "metadata": {},
   "outputs": [],
   "source": [
    "\n"
   ]
  }
 ],
 "metadata": {
  "kernelspec": {
   "display_name": "Python 3 (ipykernel)",
   "language": "python",
   "name": "python3"
  },
  "language_info": {
   "codemirror_mode": {
    "name": "ipython",
    "version": 3
   },
   "file_extension": ".py",
   "mimetype": "text/x-python",
   "name": "python",
   "nbconvert_exporter": "python",
   "pygments_lexer": "ipython3",
   "version": "3.11.6"
  }
 },
 "nbformat": 4,
 "nbformat_minor": 4
}
